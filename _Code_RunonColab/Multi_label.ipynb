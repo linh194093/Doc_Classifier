{
 "cells": [
  {
   "cell_type": "code",
   "execution_count": null,
   "metadata": {},
   "outputs": [],
   "source": [
    "import json\n",
    "import re\n",
    "from sklearn.model_selection import train_test_split\n",
    "from sklearn.preprocessing import LabelEncoder\n",
    "import pickle\n",
    "import time\n",
    "from sklearn.feature_extraction.text import CountVectorizer\n",
    "from sklearn.feature_extraction.text import TfidfTransformer\n",
    "from sklearn.naive_bayes import MultinomialNB\n",
    "from sklearn.pipeline import Pipeline\n",
    "import os\n",
    "import numpy as np\n",
    "from sklearn.metrics import f1_score\n",
    "from sklearn.metrics import accuracy_score"
   ]
  },
  {
   "cell_type": "code",
   "execution_count": null,
   "metadata": {},
   "outputs": [],
   "source": [
    "# Tiền xử lý document\n",
    "def text_preprocess(document):\n",
    "    # dua ve lower\n",
    "    document = document.lower()\n",
    "    # xóa khoảng trắng thừa\n",
    "    document = re.sub(r'\\s+', ' ', document).strip()\n",
    "\n",
    "    return document"
   ]
  },
  {
   "cell_type": "code",
   "execution_count": null,
   "metadata": {},
   "outputs": [],
   "source": [
    "with open('stopword.txt') as file:\n",
    "    stopword = (file.read()).split('\\n')\n",
    "\n",
    "X = []\n",
    "y = []\n",
    "\n",
    "list_labels = ['batdongsan', 'chinhtri', 'congnghe', 'doingoai', 'doisong', 'dulich', 'giaitri', 'giaoduc', 'khoahoc', 'kinhte', 'phapluat', 'quansu', 'thethao', 'vanhoa', 'xahoi']\n",
    "\n",
    "# đọc mini files bộ 2\n",
    "for label_ in list_labels:\n",
    "    with open('content_'+ label_ + '_1000.json') as json_file:\n",
    "        data = json.load(json_file)\n",
    "        print(label_, len(data))\n",
    "        for i in range(0, len(data), 1):\n",
    "            temp_text = text_preprocess(data[i]['message'] + data[i]['feature']).split(' ')\n",
    "            temp_text = [word for word in temp_text if word not in stopword]\n",
    "            X.append(temp_text)\n",
    "            y.append(label_)\n",
    "\n",
    "#     # đọc mini files bộ 1\n",
    "# for label_ in list_labels:\n",
    "#     with open('content_'+ label_ + '_mini.json') as json_file:\n",
    "#         data = json.load(json_file)\n",
    "#         print(label_, len(data))\n",
    "#         for i in range(0, len(data), 1):\n",
    "#             temp_text = text_preprocess(data[i]['message'] + data[i]['feature']).split(' ')\n",
    "#             temp_text = [word for word in temp_text if word not in stopword]\n",
    "#             X.append(temp_text)\n",
    "#             y.append(label_)"
   ]
  },
  {
   "cell_type": "code",
   "execution_count": null,
   "metadata": {},
   "outputs": [],
   "source": [
    "#join list to string\n",
    "X_train1 = []\n",
    "for list in X:\n",
    "    temp = \"\"\n",
    "    for word in list:\n",
    "        temp += word + ' '\n",
    "    X_train1.append(temp)\n",
    "X = X_train1\n",
    "\n",
    "# tỉ lệ tập test - train là 8 : 2\n",
    "test_percent = 0.2\n",
    "X_train, X_test, y_train, y_test = train_test_split(X, y, test_size=test_percent, random_state=42)"
   ]
  },
  {
   "cell_type": "code",
   "execution_count": null,
   "metadata": {},
   "outputs": [],
   "source": [
    "# encode label\n",
    "label_encoder = LabelEncoder()\n",
    "label_encoder.fit(y_train)\n",
    "y_train = label_encoder.transform(y_train)\n",
    "y_test = label_encoder.transform(y_test)"
   ]
  },
  {
   "cell_type": "code",
   "execution_count": null,
   "metadata": {},
   "outputs": [],
   "source": [
    "# Train mô hình với navie bayes \n",
    "start_time = time.time()\n",
    "text_clf = Pipeline([('vect', CountVectorizer(ngram_range=(1,1),\n",
    "                                             max_df=0.8,\n",
    "                                             max_features=None)), \n",
    "                     ('tfidf', TfidfTransformer()), \n",
    "                     ('clf', MultinomialNB())\n",
    "                    ])\n",
    "\n",
    "text_clf = text_clf.fit(X_train, y_train)\n",
    "\n",
    "\n",
    "train_time = time.time() - start_time\n",
    "print('Done training Naive Bayes in', train_time, 'seconds.')\n",
    " \n",
    "\n",
    "MODEL_PATH = \"models\"\n",
    "\n",
    "\n",
    "if not os.path.exists(MODEL_PATH):\n",
    "    os.makedirs(MODEL_PATH)\n",
    "# Save model\n",
    "pickle.dump(text_clf, open(os.path.join(MODEL_PATH, \"naive_bayes.pkl\"), 'wb'))"
   ]
  },
  {
   "cell_type": "code",
   "execution_count": null,
   "metadata": {},
   "outputs": [],
   "source": [
    "# Naive Bayes\n",
    "model = pickle.load(open(os.path.join(MODEL_PATH,\"naive_bayes.pkl\"), 'rb'))\n",
    "y_pred = model.predict(X_test)\n",
    "print(y_pred)\n",
    "print(y_test)\n",
    "print('Naive Bayes, Accuracy =', np.mean(y_pred == y_test))\n",
    "\n",
    "print('Naive Bayes, Accuracy_score =', accuracy_score(y_pred, y_test))\n",
    "print('Naive Bayes, F1_Score =', f1_score(y_pred, y_test, average='micro'))"
   ]
  },
  {
   "cell_type": "code",
   "execution_count": null,
   "metadata": {},
   "outputs": [],
   "source": [
    "#check trên google colab\n",
    "from google.colab import files\n",
    "uploaded = files.upload()"
   ]
  },
  {
   "cell_type": "code",
   "execution_count": null,
   "metadata": {},
   "outputs": [],
   "source": [
    "import re\n",
    "from underthesea import word_tokenize\n",
    "with open('input_data.txt') as f:\n",
    "    data = f.read()\n",
    "test = re.sub(r'\\s+', ' ', data).strip()\n",
    "test_doc = [word_tokenize(test, format = 'text')]\n",
    "\n",
    "predict_doc = model.predict(test_doc)\n",
    "\n",
    "print(label_encoder.classes_[predict_doc])\n",
    "print(label_encoder.classes_)\n",
    "print(model.predict_proba(test_doc)[0]*100, \"%\")"
   ]
  },
  {
   "cell_type": "code",
   "execution_count": null,
   "metadata": {},
   "outputs": [],
   "source": [
    "# train mô hình với SVM\n",
    "from sklearn.svm import SVC\n",
    " \n",
    "start_time = time.time()\n",
    "text_clf = Pipeline([('vect', CountVectorizer(ngram_range=(1,1),\n",
    "                                             max_df=0.8,\n",
    "                                             max_features=None)), \n",
    "                     ('tfidf', TfidfTransformer()),\n",
    "                     ('clf', SVC(gamma='scale'))\n",
    "                    ])\n",
    "print(\"Training...\")\n",
    "text_clf = text_clf.fit(X_train, y_train)\n",
    "\n",
    "train_time = time.time() - start_time\n",
    "print('Done training SVM in', train_time, 'seconds.')\n",
    " \n",
    "# Save model\n",
    "pickle.dump(text_clf, open(os.path.join(MODEL_PATH, \"svm.pkl\"), 'wb'))"
   ]
  },
  {
   "cell_type": "code",
   "execution_count": null,
   "metadata": {},
   "outputs": [],
   "source": [
    "# SVM\n",
    "model = pickle.load(open(os.path.join(MODEL_PATH,\"svm.pkl\"), 'rb'))\n",
    "y_pred = model.predict(X_test)\n",
    "print('SVM, Accuracy =', np.mean(y_pred == y_test))\n",
    "print('SVM, Accuracy_score =', accuracy_score(y_pred, y_test))\n",
    "print('SVM, F1_Score =', f1_score(y_pred, y_test, average='micro'))"
   ]
  },
  {
   "cell_type": "code",
   "execution_count": null,
   "metadata": {},
   "outputs": [],
   "source": [
    "# train mô hình với Logistic Regression\n",
    "from sklearn.linear_model import LogisticRegression\n",
    "    \n",
    "start_time = time.time()\n",
    "text_clf = Pipeline([('vect', CountVectorizer(ngram_range=(1,1),\n",
    "                                             max_df=0.8,\n",
    "                                             max_features=None)), \n",
    "                     ('tfidf', TfidfTransformer()),\n",
    "                     ('clf', LogisticRegression(solver='lbfgs', \n",
    "                                                multi_class='auto',\n",
    "                                                max_iter=10000))\n",
    "                    ])\n",
    "text_clf = text_clf.fit(X_train, y_train)\n",
    " \n",
    "train_time = time.time() - start_time\n",
    "print('Done training Linear Classifier in', train_time, 'seconds.')\n",
    " \n",
    "# Save model\n",
    "pickle.dump(text_clf, open(os.path.join(MODEL_PATH, \"linear_classifier.pkl\"), 'wb'))"
   ]
  },
  {
   "cell_type": "code",
   "execution_count": null,
   "metadata": {},
   "outputs": [],
   "source": [
    "# Linear Classifier\n",
    "model = pickle.load(open(os.path.join(MODEL_PATH,\"linear_classifier.pkl\"), 'rb'))\n",
    "y_pred = model.predict(X_test)\n",
    "print('Linear Classifier, Accuracy =', np.mean(y_pred == y_test))\n",
    "print('LR, Accuracy_score =', accuracy_score(y_pred, y_test))\n",
    "print('LR, F1_Score =', f1_score(y_pred, y_test, average='micro'))"
   ]
  }
 ],
 "metadata": {
  "language_info": {
   "name": "python"
  },
  "orig_nbformat": 4
 },
 "nbformat": 4,
 "nbformat_minor": 2
}
