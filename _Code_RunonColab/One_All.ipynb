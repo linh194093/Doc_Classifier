{
 "cells": [
  {
   "cell_type": "code",
   "execution_count": null,
   "metadata": {},
   "outputs": [],
   "source": [
    "import json\n",
    "import re"
   ]
  },
  {
   "cell_type": "code",
   "execution_count": null,
   "metadata": {},
   "outputs": [],
   "source": [
    "# Tiền xử lý document\n",
    "def text_preprocess(document):\n",
    "    # dua ve lower\n",
    "    document = document.lower()\n",
    "    # xóa khoảng trắng thừa\n",
    "    document = re.sub(r'\\s+', ' ', document).strip()\n",
    "\n",
    "    return document"
   ]
  },
  {
   "cell_type": "code",
   "execution_count": null,
   "metadata": {},
   "outputs": [],
   "source": [
    "with open('stopword.txt') as file:\n",
    "    stopword = (file.read()).split('\\n')\n",
    "\n",
    "X = []\n",
    "y = []\n",
    "\n",
    "\n",
    "\n",
    "list_labels = ['batdongsan', 'chinhtri', 'congnghe', 'doingoai', 'dulich', 'giaitri', 'giaoduc', 'khoahoc', 'kinhte', 'phapluat']\n",
    "# list_labels = ['batdongsan', 'chinhtri', 'congnghe', 'doingoai', 'dulich', 'giaitri', 'giaoduc', 'khoahoc', 'kinhte', 'phapluat']\n",
    "\n",
    "\n",
    "# đọc mini 1000docxs files \n",
    "for label_ in list_labels:\n",
    "    with open('content_'+ label_ + '_1000.json') as json_file:\n",
    "        data = json.load(json_file)\n",
    "        print(label_, len(data))\n",
    "        for i in range(0, len(data), 1):\n",
    "            temp_text = text_preprocess(data[i]['message'] + data[i]['feature']).split(' ')\n",
    "            temp_text = [word for word in temp_text if word not in stopword]\n",
    "            X.append(temp_text)\n",
    "            y.append('non_thethao')\n",
    "\n",
    "# đọc file thể thao 10000docxs\n",
    "with open('content_thethao_mini.json') as json_file:\n",
    "    data = json.load(json_file)\n",
    "    print()\n",
    "    for i in range(0, len(data), 1):\n",
    "        temp_text = text_preprocess(data[i]['message'] + data[i]['feature']).split(' ')\n",
    "        temp_text = [word for word in temp_text if word not in stopword]\n",
    "        X.append(temp_text)\n",
    "        y.append('the_thao')"
   ]
  },
  {
   "cell_type": "code",
   "execution_count": null,
   "metadata": {},
   "outputs": [],
   "source": [
    "# Chia tập train/test\n",
    "from sklearn.model_selection import train_test_split\n",
    "from sklearn.preprocessing import LabelEncoder\n",
    " \n",
    "# tỉ lệ tập test - train là 8 : 2\n",
    "test_percent = 0.2\n",
    " \n",
    "\n",
    "#join list to string\n",
    "X_train1 = []\n",
    "for list in X:\n",
    "    temp = \"\"\n",
    "    for word in list:\n",
    "        temp += word + ' '\n",
    "    X_train1.append(temp)\n",
    "X = X_train1\n",
    "\n",
    "X_train, X_test, y_train, y_test = train_test_split(X, y, test_size=test_percent, random_state=42)\n",
    "\n",
    "# encode label\n",
    "label_encoder = LabelEncoder()\n",
    "label_encoder.fit(y_train)\n",
    "y_train = label_encoder.transform(y_train)\n",
    "y_test = label_encoder.transform(y_test)"
   ]
  },
  {
   "cell_type": "code",
   "execution_count": null,
   "metadata": {},
   "outputs": [],
   "source": [
    "import pickle\n",
    "import time\n",
    "from sklearn.feature_extraction.text import CountVectorizer\n",
    "from sklearn.feature_extraction.text import TfidfTransformer\n",
    "from sklearn.naive_bayes import MultinomialNB\n",
    "from sklearn.pipeline import Pipeline\n",
    "import os\n",
    " \n",
    "start_time = time.time()\n",
    "text_clf = Pipeline([('vect', CountVectorizer(ngram_range=(1,1),\n",
    "                                             max_df=0.8,\n",
    "                                             max_features=None)), \n",
    "                     ('tfidf', TfidfTransformer()), \n",
    "                     ('clf', MultinomialNB())\n",
    "                    ])\n",
    "\n",
    "text_clf = text_clf.fit(X_train, y_train)\n",
    "\n",
    "\n",
    "train_time = time.time() - start_time\n",
    "print('Done training Naive Bayes in', train_time, 'seconds.')\n",
    " \n",
    "\n",
    "MODEL_PATH = \"models\"\n",
    "\n",
    "import os\n",
    "if not os.path.exists(MODEL_PATH):\n",
    "    os.makedirs(MODEL_PATH)\n",
    "# Save model\n",
    "pickle.dump(text_clf, open(os.path.join(MODEL_PATH, \"naive_bayes.pkl\"), 'wb'))"
   ]
  },
  {
   "cell_type": "code",
   "execution_count": null,
   "metadata": {},
   "outputs": [],
   "source": [
    "import numpy as np\n",
    "from sklearn.metrics import f1_score\n",
    "# Naive Bayes\n",
    "model = pickle.load(open(os.path.join(MODEL_PATH,\"naive_bayes.pkl\"), 'rb'))\n",
    "y_pred = model.predict(X_test)\n",
    "print(y_pred)\n",
    "print(y_test)\n",
    "print('Naive Bayes, Accuracy =', np.mean(y_pred == y_test))\n",
    "print('Naive Bayes, Accuracy =', accuracy_score(y_pred, y_test))\n",
    "print('Naive Bayes, Accuracy =', f1_score(y_pred, y_test, \"macro\"))"
   ]
  },
  {
   "cell_type": "code",
   "execution_count": null,
   "metadata": {},
   "outputs": [],
   "source": [
    "from sklearn.metrics import accuracy_score\n",
    "from sklearn.metrics import f1_score\n",
    "print('Naive Bayes, Accuracy =', accuracy_score(y_pred, y_test))\n",
    "print('Naive Bayes, Accuracy =', f1_score(y_pred, y_test, average = \"macro\"))"
   ]
  },
  {
   "cell_type": "code",
   "execution_count": null,
   "metadata": {},
   "outputs": [],
   "source": [
    "from sklearn.svm import SVC\n",
    " \n",
    "start_time = time.time()\n",
    "text_clf = Pipeline([('vect', CountVectorizer(ngram_range=(1,1),\n",
    "                                             max_df=0.8,\n",
    "                                             max_features=None)), \n",
    "                     ('tfidf', TfidfTransformer()),\n",
    "                     ('clf', SVC(gamma='scale'))\n",
    "                    ])\n",
    "print(\"Training...\")\n",
    "text_clf = text_clf.fit(X_train, y_train)\n",
    "\n",
    "train_time = time.time() - start_time\n",
    "print('Done training SVM in', train_time, 'seconds.')\n",
    " \n",
    "# Save model\n",
    "pickle.dump(text_clf, open(os.path.join(MODEL_PATH, \"svm.pkl\"), 'wb'))"
   ]
  },
  {
   "cell_type": "code",
   "execution_count": null,
   "metadata": {},
   "outputs": [],
   "source": [
    "# SVM\n",
    "model = pickle.load(open(os.path.join(MODEL_PATH,\"svm.pkl\"), 'rb'))\n",
    "y_pred = model.predict(X_test)\n",
    "print('SVM, Accuracy =', np.mean(y_pred == y_test))\n",
    "print('SVM, Accuracy =', accuracy_score(y_pred, y_test))\n",
    "print('SVM, F1_Score =', f1_score(y_pred, y_test, average='macro'))"
   ]
  },
  {
   "cell_type": "code",
   "execution_count": null,
   "metadata": {},
   "outputs": [],
   "source": [
    "from sklearn.linear_model import LogisticRegression\n",
    "    \n",
    "start_time = time.time()\n",
    "text_clf = Pipeline([('vect', CountVectorizer(ngram_range=(1,1),\n",
    "                                             max_df=0.8,\n",
    "                                             max_features=None)), \n",
    "                     ('tfidf', TfidfTransformer()),\n",
    "                     ('clf', LogisticRegression(solver='lbfgs', \n",
    "                                                multi_class='auto',\n",
    "                                                max_iter=10000))\n",
    "                    ])\n",
    "text_clf = text_clf.fit(X_train, y_train)\n",
    " \n",
    "train_time = time.time() - start_time\n",
    "print('Done training Linear Classifier in', train_time, 'seconds.')\n",
    " \n",
    "# Save model\n",
    "pickle.dump(text_clf, open(os.path.join(MODEL_PATH, \"linear_classifier.pkl\"), 'wb'))\n",
    "\n",
    "# Linear Classifier\n",
    "model = pickle.load(open(os.path.join(MODEL_PATH,\"linear_classifier.pkl\"), 'rb'))\n",
    "y_pred = model.predict(X_test)\n",
    "print('Linear Classifier, Accuracy =', np.mean(y_pred == y_test))\n",
    " \n",
    "print('LR, Accuracy =', accuracy_score(y_pred, y_test))\n",
    "print('LR, F1_Score =', f1_score(y_pred, y_test, average='macro'))"
   ]
  },
  {
   "cell_type": "code",
   "execution_count": null,
   "metadata": {},
   "outputs": [],
   "source": [
    "vocab = {}\n",
    "X = X_train + X_test\n",
    "print(len(X))\n",
    "for i in range(15000):\n",
    "    temp = X[i].split(' ')\n",
    "    for word in temp:\n",
    "        vocab[word] = 1"
   ]
  },
  {
   "cell_type": "code",
   "execution_count": null,
   "metadata": {},
   "outputs": [],
   "source": [
    "count = 0\n",
    "for i in range(15000):\n",
    "    temp = X[i].split(' ')\n",
    "    for word in temp:\n",
    "        count += 1"
   ]
  },
  {
   "cell_type": "code",
   "execution_count": null,
   "metadata": {},
   "outputs": [],
   "source": [
    "print(len(vocab))\n",
    "print(count)"
   ]
  }
 ],
 "metadata": {
  "language_info": {
   "name": "python"
  },
  "orig_nbformat": 4
 },
 "nbformat": 4,
 "nbformat_minor": 2
}
